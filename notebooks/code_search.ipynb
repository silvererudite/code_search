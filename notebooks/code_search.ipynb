{
  "nbformat": 4,
  "nbformat_minor": 0,
  "metadata": {
    "colab": {
      "provenance": [],
      "authorship_tag": "ABX9TyPAazH4vG6WnCZtXaibarmT",
      "include_colab_link": true
    },
    "kernelspec": {
      "name": "python3",
      "display_name": "Python 3"
    },
    "language_info": {
      "name": "python"
    }
  },
  "cells": [
    {
      "cell_type": "markdown",
      "metadata": {
        "id": "view-in-github",
        "colab_type": "text"
      },
      "source": [
        "<a href=\"https://colab.research.google.com/github/silvererudite/code_search/blob/main/notebooks/code_search.ipynb\" target=\"_parent\"><img src=\"https://colab.research.google.com/assets/colab-badge.svg\" alt=\"Open In Colab\"/></a>"
      ]
    },
    {
      "cell_type": "code",
      "source": [
        "# Install Cohere for embeddings, Umap to reduce embeddings to 2 dimensions, \n",
        "# Altair for visualization, Annoy for approximate nearest neighbor search\n",
        "!pip install cohere umap-learn altair annoy datasets tqdm"
      ],
      "metadata": {
        "colab": {
          "base_uri": "https://localhost:8080/"
        },
        "id": "d2auY7LyKB_z",
        "outputId": "e537a199-7a37-4cca-b2d0-5363fdef7bb1"
      },
      "execution_count": 3,
      "outputs": [
        {
          "output_type": "stream",
          "name": "stdout",
          "text": [
            "Successfully installed annoy-1.17.1 cohere-3.1.3 datasets-2.8.0 huggingface-hub-0.11.1 multiprocess-0.70.14 pynndescent-0.5.8 responses-0.18.0 umap-learn-0.5.3 urllib3-1.25.11 xxhash-3.1.0\n"
          ]
        }
      ]
    },
    {
      "cell_type": "code",
      "execution_count": 6,
      "metadata": {
        "id": "1-Dwy_RLIUKB"
      },
      "outputs": [],
      "source": [
        "import cohere\n",
        "import numpy as np\n",
        "import pandas as pd\n",
        "from tqdm import tqdm\n",
        "import re\n",
        "from datasets import load_dataset\n",
        "import umap\n",
        "import altair as alt\n",
        "from sklearn.metrics.pairwise import cosine_similarity\n",
        "from annoy import AnnoyIndex\n",
        "import warnings\n",
        "warnings.filterwarnings('ignore')\n",
        "pd.set_option('display.max_colwidth', None)"
      ]
    },
    {
      "cell_type": "code",
      "source": [
        "data_df = pd.read_csv('/content/functions_data.csv')\n",
        "data_df.head()"
      ],
      "metadata": {
        "colab": {
          "base_uri": "https://localhost:8080/",
          "height": 206
        },
        "id": "k2BAONleIkNq",
        "outputId": "773d89ed-d69f-4adc-c8d6-f5c97b271c3b"
      },
      "execution_count": 2,
      "outputs": [
        {
          "output_type": "execute_result",
          "data": {
            "text/plain": [
              "             function_name                                          docstring  \\\n",
              "0    diffusion_from_config                                                NaN   \n",
              "1        get_beta_schedule  This is the deprecated API for creating beta s...   \n",
              "2  get_named_beta_schedule  Get a pre-defined beta schedule for the given ...   \n",
              "3      betas_for_alpha_bar  Create a beta schedule that discretizes the gi...   \n",
              "4          space_timesteps  Create a list of timesteps to use from an orig...   \n",
              "\n",
              "                                       function_body  \\\n",
              "0  def diffusion_from_config(config: Dict[str, An...   \n",
              "1  def get_beta_schedule(beta_schedule, *, beta_s...   \n",
              "2  def get_named_beta_schedule(schedule_name, num...   \n",
              "3  def betas_for_alpha_bar(num_diffusion_timestep...   \n",
              "4  def space_timesteps(num_timesteps, section_cou...   \n",
              "\n",
              "                                 file_path  \n",
              "0             point_e\\diffusion\\configs.py  \n",
              "1  point_e\\diffusion\\gaussian_diffusion.py  \n",
              "2  point_e\\diffusion\\gaussian_diffusion.py  \n",
              "3  point_e\\diffusion\\gaussian_diffusion.py  \n",
              "4  point_e\\diffusion\\gaussian_diffusion.py  "
            ],
            "text/html": [
              "\n",
              "  <div id=\"df-eebeb23a-8fba-463e-80f0-4129d245b2c3\">\n",
              "    <div class=\"colab-df-container\">\n",
              "      <div>\n",
              "<style scoped>\n",
              "    .dataframe tbody tr th:only-of-type {\n",
              "        vertical-align: middle;\n",
              "    }\n",
              "\n",
              "    .dataframe tbody tr th {\n",
              "        vertical-align: top;\n",
              "    }\n",
              "\n",
              "    .dataframe thead th {\n",
              "        text-align: right;\n",
              "    }\n",
              "</style>\n",
              "<table border=\"1\" class=\"dataframe\">\n",
              "  <thead>\n",
              "    <tr style=\"text-align: right;\">\n",
              "      <th></th>\n",
              "      <th>function_name</th>\n",
              "      <th>docstring</th>\n",
              "      <th>function_body</th>\n",
              "      <th>file_path</th>\n",
              "    </tr>\n",
              "  </thead>\n",
              "  <tbody>\n",
              "    <tr>\n",
              "      <th>0</th>\n",
              "      <td>diffusion_from_config</td>\n",
              "      <td>NaN</td>\n",
              "      <td>def diffusion_from_config(config: Dict[str, An...</td>\n",
              "      <td>point_e\\diffusion\\configs.py</td>\n",
              "    </tr>\n",
              "    <tr>\n",
              "      <th>1</th>\n",
              "      <td>get_beta_schedule</td>\n",
              "      <td>This is the deprecated API for creating beta s...</td>\n",
              "      <td>def get_beta_schedule(beta_schedule, *, beta_s...</td>\n",
              "      <td>point_e\\diffusion\\gaussian_diffusion.py</td>\n",
              "    </tr>\n",
              "    <tr>\n",
              "      <th>2</th>\n",
              "      <td>get_named_beta_schedule</td>\n",
              "      <td>Get a pre-defined beta schedule for the given ...</td>\n",
              "      <td>def get_named_beta_schedule(schedule_name, num...</td>\n",
              "      <td>point_e\\diffusion\\gaussian_diffusion.py</td>\n",
              "    </tr>\n",
              "    <tr>\n",
              "      <th>3</th>\n",
              "      <td>betas_for_alpha_bar</td>\n",
              "      <td>Create a beta schedule that discretizes the gi...</td>\n",
              "      <td>def betas_for_alpha_bar(num_diffusion_timestep...</td>\n",
              "      <td>point_e\\diffusion\\gaussian_diffusion.py</td>\n",
              "    </tr>\n",
              "    <tr>\n",
              "      <th>4</th>\n",
              "      <td>space_timesteps</td>\n",
              "      <td>Create a list of timesteps to use from an orig...</td>\n",
              "      <td>def space_timesteps(num_timesteps, section_cou...</td>\n",
              "      <td>point_e\\diffusion\\gaussian_diffusion.py</td>\n",
              "    </tr>\n",
              "  </tbody>\n",
              "</table>\n",
              "</div>\n",
              "      <button class=\"colab-df-convert\" onclick=\"convertToInteractive('df-eebeb23a-8fba-463e-80f0-4129d245b2c3')\"\n",
              "              title=\"Convert this dataframe to an interactive table.\"\n",
              "              style=\"display:none;\">\n",
              "        \n",
              "  <svg xmlns=\"http://www.w3.org/2000/svg\" height=\"24px\"viewBox=\"0 0 24 24\"\n",
              "       width=\"24px\">\n",
              "    <path d=\"M0 0h24v24H0V0z\" fill=\"none\"/>\n",
              "    <path d=\"M18.56 5.44l.94 2.06.94-2.06 2.06-.94-2.06-.94-.94-2.06-.94 2.06-2.06.94zm-11 1L8.5 8.5l.94-2.06 2.06-.94-2.06-.94L8.5 2.5l-.94 2.06-2.06.94zm10 10l.94 2.06.94-2.06 2.06-.94-2.06-.94-.94-2.06-.94 2.06-2.06.94z\"/><path d=\"M17.41 7.96l-1.37-1.37c-.4-.4-.92-.59-1.43-.59-.52 0-1.04.2-1.43.59L10.3 9.45l-7.72 7.72c-.78.78-.78 2.05 0 2.83L4 21.41c.39.39.9.59 1.41.59.51 0 1.02-.2 1.41-.59l7.78-7.78 2.81-2.81c.8-.78.8-2.07 0-2.86zM5.41 20L4 18.59l7.72-7.72 1.47 1.35L5.41 20z\"/>\n",
              "  </svg>\n",
              "      </button>\n",
              "      \n",
              "  <style>\n",
              "    .colab-df-container {\n",
              "      display:flex;\n",
              "      flex-wrap:wrap;\n",
              "      gap: 12px;\n",
              "    }\n",
              "\n",
              "    .colab-df-convert {\n",
              "      background-color: #E8F0FE;\n",
              "      border: none;\n",
              "      border-radius: 50%;\n",
              "      cursor: pointer;\n",
              "      display: none;\n",
              "      fill: #1967D2;\n",
              "      height: 32px;\n",
              "      padding: 0 0 0 0;\n",
              "      width: 32px;\n",
              "    }\n",
              "\n",
              "    .colab-df-convert:hover {\n",
              "      background-color: #E2EBFA;\n",
              "      box-shadow: 0px 1px 2px rgba(60, 64, 67, 0.3), 0px 1px 3px 1px rgba(60, 64, 67, 0.15);\n",
              "      fill: #174EA6;\n",
              "    }\n",
              "\n",
              "    [theme=dark] .colab-df-convert {\n",
              "      background-color: #3B4455;\n",
              "      fill: #D2E3FC;\n",
              "    }\n",
              "\n",
              "    [theme=dark] .colab-df-convert:hover {\n",
              "      background-color: #434B5C;\n",
              "      box-shadow: 0px 1px 3px 1px rgba(0, 0, 0, 0.15);\n",
              "      filter: drop-shadow(0px 1px 2px rgba(0, 0, 0, 0.3));\n",
              "      fill: #FFFFFF;\n",
              "    }\n",
              "  </style>\n",
              "\n",
              "      <script>\n",
              "        const buttonEl =\n",
              "          document.querySelector('#df-eebeb23a-8fba-463e-80f0-4129d245b2c3 button.colab-df-convert');\n",
              "        buttonEl.style.display =\n",
              "          google.colab.kernel.accessAllowed ? 'block' : 'none';\n",
              "\n",
              "        async function convertToInteractive(key) {\n",
              "          const element = document.querySelector('#df-eebeb23a-8fba-463e-80f0-4129d245b2c3');\n",
              "          const dataTable =\n",
              "            await google.colab.kernel.invokeFunction('convertToInteractive',\n",
              "                                                     [key], {});\n",
              "          if (!dataTable) return;\n",
              "\n",
              "          const docLinkHtml = 'Like what you see? Visit the ' +\n",
              "            '<a target=\"_blank\" href=https://colab.research.google.com/notebooks/data_table.ipynb>data table notebook</a>'\n",
              "            + ' to learn more about interactive tables.';\n",
              "          element.innerHTML = '';\n",
              "          dataTable['output_type'] = 'display_data';\n",
              "          await google.colab.output.renderOutput(dataTable, element);\n",
              "          const docLink = document.createElement('div');\n",
              "          docLink.innerHTML = docLinkHtml;\n",
              "          element.appendChild(docLink);\n",
              "        }\n",
              "      </script>\n",
              "    </div>\n",
              "  </div>\n",
              "  "
            ]
          },
          "metadata": {},
          "execution_count": 2
        }
      ]
    },
    {
      "cell_type": "code",
      "source": [
        "data_df['docstring'].fillna('not specified', inplace=True)"
      ],
      "metadata": {
        "id": "gIG92qWBO9Mr"
      },
      "execution_count": 9,
      "outputs": []
    },
    {
      "cell_type": "code",
      "source": [
        "# Paste your API key here. Remember to not share publicly\n",
        "api_key = ''\n",
        "\n",
        "# Create and retrieve a Cohere API key from dashboard.cohere.ai/welcome/register\n",
        "co = cohere.Client(api_key)\n",
        "\n",
        "# Get the embeddings\n",
        "embeds = co.embed(texts=list(data_df['docstring']), model='large',truncate='LEFT').embeddings"
      ],
      "metadata": {
        "id": "XOAPJWLaIvJa"
      },
      "execution_count": 10,
      "outputs": []
    },
    {
      "cell_type": "code",
      "source": [
        "em = np.array(embeds)"
      ],
      "metadata": {
        "id": "LTcxVToIPw98"
      },
      "execution_count": 14,
      "outputs": []
    },
    {
      "cell_type": "code",
      "source": [
        "# Create the search index, pass the size of embedding\n",
        "search_index = AnnoyIndex(em.shape[1], 'angular')\n",
        "# Add all the vectors to the search index\n",
        "for i in range(len(em)):\n",
        "    search_index.add_item(i, em[i])\n",
        "search_index.build(10) # 10 trees\n",
        "search_index.save('code.ann')"
      ],
      "metadata": {
        "colab": {
          "base_uri": "https://localhost:8080/"
        },
        "id": "enN2TfPVLxoz",
        "outputId": "616acae4-46af-4699-cc40-d8791efe2976"
      },
      "execution_count": 15,
      "outputs": [
        {
          "output_type": "execute_result",
          "data": {
            "text/plain": [
              "True"
            ]
          },
          "metadata": {},
          "execution_count": 15
        }
      ]
    },
    {
      "cell_type": "code",
      "source": [
        "query = \"compute diffusion of given data\"\n",
        "\n",
        "# Get the query's embedding\n",
        "query_embed = co.embed(texts=[query],\n",
        "                  model=\"large\",\n",
        "                  truncate=\"LEFT\").embeddings\n",
        "\n",
        "# Retrieve the nearest neighbors\n",
        "similar_item_ids = search_index.get_nns_by_vector(query_embed[0],3,\n",
        "                                                include_distances=True)\n",
        "# Format the results\n",
        "results = pd.DataFrame(data={'function': data_df.iloc[similar_item_ids[0]]['function_body'], \n",
        "                             'file path': data_df.iloc[similar_item_ids[0]]['file_path']})\n",
        "\n",
        "\n",
        "print(f\"Query:'{query}'\\nNearest neighbors:\")\n",
        "results"
      ],
      "metadata": {
        "colab": {
          "base_uri": "https://localhost:8080/",
          "height": 309
        },
        "id": "-lsiShPNPRjM",
        "outputId": "f422574d-96c0-4740-f275-d143bd79af97"
      },
      "execution_count": 18,
      "outputs": [
        {
          "output_type": "stream",
          "name": "stdout",
          "text": [
            "Query:'compute diffusion of given data'\n",
            "Nearest neighbors:\n"
          ]
        },
        {
          "output_type": "execute_result",
          "data": {
            "text/plain": [
              "                                                                                                                                                                                                                                                                                                                                                                                                                                                                                                                                                                                                                                                                                                                                               function  \\\n",
              "13                                                                                                                                                                                                                                                                                                                                                                                    def q_sample(self, x_start, t, noise=None):\\n    \"\"\"\"\"\"\\n    if noise is None:\\n        noise = th.randn_like(x_start)\\n    assert noise.shape == x_start.shape\\n    return _extract_into_tensor(self.sqrt_alphas_cumprod, t, x_start.shape\\n        ) * x_start + _extract_into_tensor(self.\\n        sqrt_one_minus_alphas_cumprod, t, x_start.shape) * noise\\n   \n",
              "14  def q_posterior_mean_variance(self, x_start, x_t, t):\\n    \"\"\"\"\"\"\\n    assert x_start.shape == x_t.shape\\n    posterior_mean = _extract_into_tensor(self.posterior_mean_coef1, t, x_t\\n        .shape) * x_start + _extract_into_tensor(self.posterior_mean_coef2,\\n        t, x_t.shape) * x_t\\n    posterior_variance = _extract_into_tensor(self.posterior_variance, t,\\n        x_t.shape)\\n    posterior_log_variance_clipped = _extract_into_tensor(self.\\n        posterior_log_variance_clipped, t, x_t.shape)\\n    assert posterior_mean.shape[0] == posterior_variance.shape[0\\n        ] == posterior_log_variance_clipped.shape[0] == x_start.shape[0]\\n    return posterior_mean, posterior_variance, posterior_log_variance_clipped\\n   \n",
              "12                                                                                                                                                                                                                                                                                                                                                    def q_mean_variance(self, x_start, t):\\n    \"\"\"\"\"\"\\n    mean = _extract_into_tensor(self.sqrt_alphas_cumprod, t, x_start.shape\\n        ) * x_start\\n    variance = _extract_into_tensor(1.0 - self.alphas_cumprod, t, x_start.shape\\n        )\\n    log_variance = _extract_into_tensor(self.log_one_minus_alphas_cumprod,\\n        t, x_start.shape)\\n    return mean, variance, log_variance\\n   \n",
              "\n",
              "                                  file path  \n",
              "13  point_e\\diffusion\\gaussian_diffusion.py  \n",
              "14  point_e\\diffusion\\gaussian_diffusion.py  \n",
              "12  point_e\\diffusion\\gaussian_diffusion.py  "
            ],
            "text/html": [
              "\n",
              "  <div id=\"df-5b04af0a-eab0-4604-b583-8647b77fd23d\">\n",
              "    <div class=\"colab-df-container\">\n",
              "      <div>\n",
              "<style scoped>\n",
              "    .dataframe tbody tr th:only-of-type {\n",
              "        vertical-align: middle;\n",
              "    }\n",
              "\n",
              "    .dataframe tbody tr th {\n",
              "        vertical-align: top;\n",
              "    }\n",
              "\n",
              "    .dataframe thead th {\n",
              "        text-align: right;\n",
              "    }\n",
              "</style>\n",
              "<table border=\"1\" class=\"dataframe\">\n",
              "  <thead>\n",
              "    <tr style=\"text-align: right;\">\n",
              "      <th></th>\n",
              "      <th>function</th>\n",
              "      <th>file path</th>\n",
              "    </tr>\n",
              "  </thead>\n",
              "  <tbody>\n",
              "    <tr>\n",
              "      <th>13</th>\n",
              "      <td>def q_sample(self, x_start, t, noise=None):\\n    \"\"\"\"\"\"\\n    if noise is None:\\n        noise = th.randn_like(x_start)\\n    assert noise.shape == x_start.shape\\n    return _extract_into_tensor(self.sqrt_alphas_cumprod, t, x_start.shape\\n        ) * x_start + _extract_into_tensor(self.\\n        sqrt_one_minus_alphas_cumprod, t, x_start.shape) * noise\\n</td>\n",
              "      <td>point_e\\diffusion\\gaussian_diffusion.py</td>\n",
              "    </tr>\n",
              "    <tr>\n",
              "      <th>14</th>\n",
              "      <td>def q_posterior_mean_variance(self, x_start, x_t, t):\\n    \"\"\"\"\"\"\\n    assert x_start.shape == x_t.shape\\n    posterior_mean = _extract_into_tensor(self.posterior_mean_coef1, t, x_t\\n        .shape) * x_start + _extract_into_tensor(self.posterior_mean_coef2,\\n        t, x_t.shape) * x_t\\n    posterior_variance = _extract_into_tensor(self.posterior_variance, t,\\n        x_t.shape)\\n    posterior_log_variance_clipped = _extract_into_tensor(self.\\n        posterior_log_variance_clipped, t, x_t.shape)\\n    assert posterior_mean.shape[0] == posterior_variance.shape[0\\n        ] == posterior_log_variance_clipped.shape[0] == x_start.shape[0]\\n    return posterior_mean, posterior_variance, posterior_log_variance_clipped\\n</td>\n",
              "      <td>point_e\\diffusion\\gaussian_diffusion.py</td>\n",
              "    </tr>\n",
              "    <tr>\n",
              "      <th>12</th>\n",
              "      <td>def q_mean_variance(self, x_start, t):\\n    \"\"\"\"\"\"\\n    mean = _extract_into_tensor(self.sqrt_alphas_cumprod, t, x_start.shape\\n        ) * x_start\\n    variance = _extract_into_tensor(1.0 - self.alphas_cumprod, t, x_start.shape\\n        )\\n    log_variance = _extract_into_tensor(self.log_one_minus_alphas_cumprod,\\n        t, x_start.shape)\\n    return mean, variance, log_variance\\n</td>\n",
              "      <td>point_e\\diffusion\\gaussian_diffusion.py</td>\n",
              "    </tr>\n",
              "  </tbody>\n",
              "</table>\n",
              "</div>\n",
              "      <button class=\"colab-df-convert\" onclick=\"convertToInteractive('df-5b04af0a-eab0-4604-b583-8647b77fd23d')\"\n",
              "              title=\"Convert this dataframe to an interactive table.\"\n",
              "              style=\"display:none;\">\n",
              "        \n",
              "  <svg xmlns=\"http://www.w3.org/2000/svg\" height=\"24px\"viewBox=\"0 0 24 24\"\n",
              "       width=\"24px\">\n",
              "    <path d=\"M0 0h24v24H0V0z\" fill=\"none\"/>\n",
              "    <path d=\"M18.56 5.44l.94 2.06.94-2.06 2.06-.94-2.06-.94-.94-2.06-.94 2.06-2.06.94zm-11 1L8.5 8.5l.94-2.06 2.06-.94-2.06-.94L8.5 2.5l-.94 2.06-2.06.94zm10 10l.94 2.06.94-2.06 2.06-.94-2.06-.94-.94-2.06-.94 2.06-2.06.94z\"/><path d=\"M17.41 7.96l-1.37-1.37c-.4-.4-.92-.59-1.43-.59-.52 0-1.04.2-1.43.59L10.3 9.45l-7.72 7.72c-.78.78-.78 2.05 0 2.83L4 21.41c.39.39.9.59 1.41.59.51 0 1.02-.2 1.41-.59l7.78-7.78 2.81-2.81c.8-.78.8-2.07 0-2.86zM5.41 20L4 18.59l7.72-7.72 1.47 1.35L5.41 20z\"/>\n",
              "  </svg>\n",
              "      </button>\n",
              "      \n",
              "  <style>\n",
              "    .colab-df-container {\n",
              "      display:flex;\n",
              "      flex-wrap:wrap;\n",
              "      gap: 12px;\n",
              "    }\n",
              "\n",
              "    .colab-df-convert {\n",
              "      background-color: #E8F0FE;\n",
              "      border: none;\n",
              "      border-radius: 50%;\n",
              "      cursor: pointer;\n",
              "      display: none;\n",
              "      fill: #1967D2;\n",
              "      height: 32px;\n",
              "      padding: 0 0 0 0;\n",
              "      width: 32px;\n",
              "    }\n",
              "\n",
              "    .colab-df-convert:hover {\n",
              "      background-color: #E2EBFA;\n",
              "      box-shadow: 0px 1px 2px rgba(60, 64, 67, 0.3), 0px 1px 3px 1px rgba(60, 64, 67, 0.15);\n",
              "      fill: #174EA6;\n",
              "    }\n",
              "\n",
              "    [theme=dark] .colab-df-convert {\n",
              "      background-color: #3B4455;\n",
              "      fill: #D2E3FC;\n",
              "    }\n",
              "\n",
              "    [theme=dark] .colab-df-convert:hover {\n",
              "      background-color: #434B5C;\n",
              "      box-shadow: 0px 1px 3px 1px rgba(0, 0, 0, 0.15);\n",
              "      filter: drop-shadow(0px 1px 2px rgba(0, 0, 0, 0.3));\n",
              "      fill: #FFFFFF;\n",
              "    }\n",
              "  </style>\n",
              "\n",
              "      <script>\n",
              "        const buttonEl =\n",
              "          document.querySelector('#df-5b04af0a-eab0-4604-b583-8647b77fd23d button.colab-df-convert');\n",
              "        buttonEl.style.display =\n",
              "          google.colab.kernel.accessAllowed ? 'block' : 'none';\n",
              "\n",
              "        async function convertToInteractive(key) {\n",
              "          const element = document.querySelector('#df-5b04af0a-eab0-4604-b583-8647b77fd23d');\n",
              "          const dataTable =\n",
              "            await google.colab.kernel.invokeFunction('convertToInteractive',\n",
              "                                                     [key], {});\n",
              "          if (!dataTable) return;\n",
              "\n",
              "          const docLinkHtml = 'Like what you see? Visit the ' +\n",
              "            '<a target=\"_blank\" href=https://colab.research.google.com/notebooks/data_table.ipynb>data table notebook</a>'\n",
              "            + ' to learn more about interactive tables.';\n",
              "          element.innerHTML = '';\n",
              "          dataTable['output_type'] = 'display_data';\n",
              "          await google.colab.output.renderOutput(dataTable, element);\n",
              "          const docLink = document.createElement('div');\n",
              "          docLink.innerHTML = docLinkHtml;\n",
              "          element.appendChild(docLink);\n",
              "        }\n",
              "      </script>\n",
              "    </div>\n",
              "  </div>\n",
              "  "
            ]
          },
          "metadata": {},
          "execution_count": 18
        }
      ]
    },
    {
      "cell_type": "code",
      "source": [],
      "metadata": {
        "id": "4ovfaSgaTYel"
      },
      "execution_count": null,
      "outputs": []
    }
  ]
}